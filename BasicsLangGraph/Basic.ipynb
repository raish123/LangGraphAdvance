{
 "cells": [
  {
   "cell_type": "code",
   "execution_count": 1,
   "id": "6f36acf8",
   "metadata": {},
   "outputs": [
    {
     "data": {
      "text/plain": [
       "True"
      ]
     },
     "execution_count": 1,
     "metadata": {},
     "output_type": "execute_result"
    }
   ],
   "source": [
    "#below classes we used to interact with any llm model\n",
    "from langchain_groq import ChatGroq\n",
    "from langchain_openai import ChatOpenAI\n",
    "from langchain_huggingface import ChatHuggingFace,HuggingFaceEndpoint\n",
    "\n",
    "#to convert the simple user query to Prompt we are using Chatprompttemplate,prompttemplate\n",
    "from langchain_core.prompts import PromptTemplate,ChatPromptTemplate\n",
    "\n",
    "#parser classes to parser \n",
    "from langchain_core.output_parsers import StrOutputParser,PydanticOutputParser\n",
    "\n",
    "#loading the env filter\n",
    "from dotenv import load_dotenv\n",
    "\n",
    "load_dotenv()"
   ]
  },
  {
   "cell_type": "markdown",
   "id": "bfb2b0bd",
   "metadata": {},
   "source": [
    "# step:1) loading the model class object"
   ]
  },
  {
   "cell_type": "code",
   "execution_count": 3,
   "id": "ea8676d7",
   "metadata": {},
   "outputs": [],
   "source": [
    "#creating an object of chatGroq class\n",
    "model1 = ChatGroq(\n",
    "    model=\"llama-3.1-8b-instant\",temperature=0 #temperature is called creative parameter\n",
    ")\n",
    "\n",
    "#creating an object openai model class\n",
    "model2 = ChatOpenAI(\n",
    "    model=\"gpt-3.5-turbo\",temperature=0\n",
    ")\n",
    "\n",
    "#creating an object open source model.\n",
    "#HuggingFaceEndpoint is a class where we are sending or hitting user query request to get response\n",
    "llm = HuggingFaceEndpoint(  \n",
    "        repo_id=\"meta-llama/Meta-Llama-3-8B-Instruct\",  \n",
    "        task=\"text-generation\",  \n",
    "        )  \n",
    "model3 = ChatHuggingFace(llm=llm)"
   ]
  },
  {
   "cell_type": "markdown",
   "id": "81dd7ba9",
   "metadata": {},
   "source": [
    "# Testing the model by sending user query to chatModel"
   ]
  },
  {
   "cell_type": "code",
   "execution_count": 6,
   "id": "c0d546eb",
   "metadata": {},
   "outputs": [],
   "source": [
    "from langchain_core.messages import HumanMessage\n",
    "\n",
    "message = []\n",
    "\n",
    "user_prompt = HumanMessage(content=\"hello llm Model\",name='Human')\n",
    "\n",
    "# Message list\n",
    "message.append(user_prompt)\n",
    "\n",
    "#passing the userprompt to llm model.\n",
    "response = model3.invoke(message)\n",
    "message.append(response)\n"
   ]
  },
  {
   "cell_type": "code",
   "execution_count": 7,
   "id": "5d5f10fc",
   "metadata": {},
   "outputs": [
    {
     "data": {
      "text/plain": [
       "[HumanMessage(content='hello llm Model', additional_kwargs={}, response_metadata={}, name='Human'),\n",
       " AIMessage(content=\"Hello. How can I assist you today? Do you have a specific topic you'd like to discuss, or a question you need help with?\", additional_kwargs={}, response_metadata={'token_usage': {'completion_tokens': 30, 'prompt_tokens': 39, 'total_tokens': 69}, 'model_name': 'meta-llama/Meta-Llama-3-8B-Instruct', 'system_fingerprint': '', 'finish_reason': 'stop', 'logprobs': None}, id='run--22634d9d-b9df-45ed-9cc6-3380db3c03a8-0', usage_metadata={'input_tokens': 39, 'output_tokens': 30, 'total_tokens': 69})]"
      ]
     },
     "execution_count": 7,
     "metadata": {},
     "output_type": "execute_result"
    }
   ],
   "source": [
    "message"
   ]
  },
  {
   "cell_type": "markdown",
   "id": "26ba6cec",
   "metadata": {},
   "source": [
    "# query searching on Internet using Tavily built in tool "
   ]
  },
  {
   "cell_type": "code",
   "execution_count": 8,
   "id": "07eb8771",
   "metadata": {},
   "outputs": [
    {
     "data": {
      "text/plain": [
       "TavilySearch(max_results=2, topic='general', api_wrapper=TavilySearchAPIWrapper(tavily_api_key=SecretStr('**********'), api_base_url=None))"
      ]
     },
     "execution_count": 8,
     "metadata": {},
     "output_type": "execute_result"
    }
   ],
   "source": [
    "from langchain_tavily import TavilySearch\n",
    "\n",
    "# Initialize Tavily Search Tool object \n",
    "tavily_search_tool = TavilySearch(\n",
    "    max_results=2,\n",
    "    topic=\"general\",\n",
    ")\n",
    "tavily_search_tool"
   ]
  },
  {
   "cell_type": "code",
   "execution_count": 15,
   "id": "857903ae",
   "metadata": {},
   "outputs": [
    {
     "data": {
      "text/plain": [
       "{'query': 'What nation hosted the aisa cup cricket 2025? Include only wikipedia sources.',\n",
       " 'follow_up_questions': None,\n",
       " 'answer': None,\n",
       " 'images': [],\n",
       " 'results': [{'url': 'https://en.wikipedia.org/wiki/International_cricket_in_2025%E2%80%9326',\n",
       "   'title': 'International cricket in 2025–26 - Wikipedia',\n",
       "   'content': \"The 2025 Asia Cup is being held in September 2025 in the United Arab Emirates, while India and Sri Lanka will host the 2026 Men's T20 World Cup in February and\",\n",
       "   'score': 0.80405265,\n",
       "   'raw_content': None},\n",
       "  {'url': 'https://asiacup2025.net/who-will-host-the-cricket-asia-cup-2025/',\n",
       "   'title': 'Who Will Host the Cricket Asia Cup 2025?',\n",
       "   'content': 'The Asian Cricket Council (ACC) confirmed that India will be the official host of the Asia Cup 2025. The tournament is scheduled to be played in the T20 format,',\n",
       "   'score': 0.7811474,\n",
       "   'raw_content': None}],\n",
       " 'response_time': 0.87,\n",
       " 'request_id': 'e1a07637-0902-4412-912e-52629b9f6d9f'}"
      ]
     },
     "execution_count": 15,
     "metadata": {},
     "output_type": "execute_result"
    }
   ],
   "source": [
    "import prettyprint\n",
    "user_input = \"What nation hosted the aisa cup cricket 2025? Include only wikipedia sources.\"\n",
    "\n",
    "result = tavily_search_tool.invoke(input=user_input)\n",
    "result #rtn as list object\n",
    "    "
   ]
  },
  {
   "cell_type": "code",
   "execution_count": null,
   "id": "674c9361",
   "metadata": {},
   "outputs": [],
   "source": []
  },
  {
   "cell_type": "code",
   "execution_count": 18,
   "id": "aca6e1b7",
   "metadata": {},
   "outputs": [
    {
     "data": {
      "text/plain": [
       "{'query': 'when was municipal corporation election conducted in mumbai 2025',\n",
       " 'follow_up_questions': None,\n",
       " 'answer': None,\n",
       " 'images': [],\n",
       " 'results': [{'url': 'https://www.facebook.com/photo.php?fbid=1231317962338820&id=100063818836513&set=a.481640587306565',\n",
       "   'title': 'The Daily - *Mumbai BMC Elections 2025 - Facebook',\n",
       "   'content': 'Mumbai BMC Elections 2025: Ward Boundaries To Be Notified By September 4; Draft Delimitation Scheduled For July 8–10* Mumbai: The',\n",
       "   'score': 0.7213709,\n",
       "   'raw_content': None},\n",
       "  {'url': 'https://www.freepressjournal.in/mumbai/mumbai-bmc-elections-2025-ward-boundaries-to-be-notified-by-september-4-draft-delimitation-scheduled-for-july-810',\n",
       "   'title': 'Mumbai BMC Elections 2025: Ward Boundaries To Be Notified By ...',\n",
       "   'content': 'The Brihanmumbai Municipal Corporation (BMC) will notify the boundaries of 227 wards for the upcoming elections by September 4.',\n",
       "   'score': 0.7011614,\n",
       "   'raw_content': None}],\n",
       " 'response_time': 0.84,\n",
       " 'request_id': 'bc6807c5-afaa-4d1e-b0f5-5142dd43c972'}"
      ]
     },
     "execution_count": 18,
     "metadata": {},
     "output_type": "execute_result"
    }
   ],
   "source": [
    "import prettyprint\n",
    "user_input2 = \"when was municipal corporation election conducted in mumbai 2025\"\n",
    "\n",
    "result2 = tavily_search_tool.invoke(input=user_input2)\n",
    "result2 #rtn as list object\n",
    "    "
   ]
  }
 ],
 "metadata": {
  "kernelspec": {
   "display_name": "hf-gpu",
   "language": "python",
   "name": "python3"
  },
  "language_info": {
   "codemirror_mode": {
    "name": "ipython",
    "version": 3
   },
   "file_extension": ".py",
   "mimetype": "text/x-python",
   "name": "python",
   "nbconvert_exporter": "python",
   "pygments_lexer": "ipython3",
   "version": "3.10.18"
  }
 },
 "nbformat": 4,
 "nbformat_minor": 5
}
