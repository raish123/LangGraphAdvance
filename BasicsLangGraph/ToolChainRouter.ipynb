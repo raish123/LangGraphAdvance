{
 "cells": [
  {
   "cell_type": "code",
   "execution_count": 1,
   "id": "07ac96fa",
   "metadata": {},
   "outputs": [
    {
     "data": {
      "text/plain": [
       "True"
      ]
     },
     "execution_count": 1,
     "metadata": {},
     "output_type": "execute_result"
    }
   ],
   "source": [
    "#below classes we used to interact with any llm model\n",
    "from langchain_groq import ChatGroq\n",
    "from langchain_openai import ChatOpenAI\n",
    "from langchain_huggingface import ChatHuggingFace,HuggingFaceEndpoint\n",
    "\n",
    "#to convert the simple user query to Prompt we are using Chatprompttemplate,prompttemplate\n",
    "from langchain_core.prompts import PromptTemplate,ChatPromptTemplate\n",
    "\n",
    "#parser classes to parser \n",
    "from langchain_core.output_parsers import StrOutputParser,PydanticOutputParser\n",
    "\n",
    "#loading the env filter\n",
    "from dotenv import load_dotenv\n",
    "\n",
    "from langchain_core.messages import ToolMessage,AIMessage,HumanMessage,SystemMessage\n",
    "\n",
    "load_dotenv()"
   ]
  },
  {
   "cell_type": "code",
   "execution_count": 2,
   "id": "01a94c31",
   "metadata": {},
   "outputs": [],
   "source": [
    "#creating an object of chatGroq class\n",
    "model1 = ChatGroq(\n",
    "    model=\"llama-3.1-8b-instant\",temperature=0 #temperature is called creative parameter\n",
    ")\n",
    "\n",
    "#creating an object openai model class\n",
    "model2 = ChatOpenAI(\n",
    "    model=\"gpt-3.5-turbo\",temperature=0\n",
    ")\n",
    "\n",
    "#creating an object open source model.\n",
    "#HuggingFaceEndpoint is a class where we are sending or hitting user query request to get response\n",
    "llm = HuggingFaceEndpoint(  \n",
    "        repo_id=\"meta-llama/Meta-Llama-3-8B-Instruct\",  \n",
    "        task=\"text-generation\",  \n",
    "        )  \n",
    "model3 = ChatHuggingFace(llm=llm)"
   ]
  },
  {
   "cell_type": "markdown",
   "id": "0d4355ef",
   "metadata": {},
   "source": [
    "Each message can be supplied with a few things:\n",
    "\n",
    "content - content of the message\n",
    "name - optionally, a message author\n",
    "response_metadata - optionally, a dict of metadata (e.g., often populated by model provider for AIMessages)"
   ]
  },
  {
   "cell_type": "markdown",
   "id": "7a5dafbb",
   "metadata": {},
   "source": [
    "# below is the kind of few shot prompting technique where we give  LLM model chat history with example"
   ]
  },
  {
   "cell_type": "code",
   "execution_count": 3,
   "id": "d3d8840f",
   "metadata": {},
   "outputs": [
    {
     "name": "stdout",
     "output_type": "stream",
     "text": [
      "==================================\u001b[1m Ai Message \u001b[0m==================================\n",
      "Name: Model\n",
      "\n",
      "So you said you were researching ocean mammals?\n",
      "================================\u001b[1m Human Message \u001b[0m=================================\n",
      "Name: user\n",
      "\n",
      "Yes, that's right.\n",
      "==================================\u001b[1m Ai Message \u001b[0m==================================\n",
      "Name: Model\n",
      "\n",
      "Great, what would you like to learn about.\n",
      "================================\u001b[1m Human Message \u001b[0m=================================\n",
      "Name: user\n",
      "\n",
      "I want to learn about the best place to see Orcas in the US.\n"
     ]
    }
   ],
   "source": [
    "from pprint import pprint\n",
    "\n",
    "#creating a list of messages holding/storing human and ai message init.\n",
    "messages = [AIMessage(content=f\"So you said you were researching ocean mammals?\", name=\"Model\")]\n",
    "\n",
    "messages.append(HumanMessage(content=f\"Yes, that's right.\",name=\"user\"))\n",
    "\n",
    "messages.append(AIMessage(content=f\"Great, what would you like to learn about.\", name=\"Model\"))\n",
    "\n",
    "messages.append(HumanMessage(content=f\"I want to learn about the best place to see Orcas in the US.\", name=\"user\"))\n",
    "\n",
    "for m in messages:\n",
    "    m.pretty_print()"
   ]
  },
  {
   "cell_type": "code",
   "execution_count": 4,
   "id": "fe307abe",
   "metadata": {},
   "outputs": [],
   "source": [
    "# now passing the few shot prompting to llm chat model to give reposne based on context of messages."
   ]
  },
  {
   "cell_type": "markdown",
   "id": "71344cfa",
   "metadata": {},
   "source": [
    "# chat Models"
   ]
  },
  {
   "cell_type": "code",
   "execution_count": 5,
   "id": "04ccd04f",
   "metadata": {},
   "outputs": [
    {
     "data": {
      "text/plain": [
       "AIMessage(content='The best place to see Orcas (also known as killer whales) in the US is in the Pacific Northwest, particularly in the waters around Washington state and British Columbia, Canada. \\n\\nSome popular locations for orca sightings include:\\n\\n1. **Puget Sound**: Specifically, the San Juan Islands, which are located between the mainland and Vancouver Island. This area is home to the Southern Resident orcas, a distinct population of orcas that feed on salmon.\\n2. **San Juan Islands National Wildlife Refuge**: This refuge is a protected area that provides a safe habitat for orcas and other marine wildlife.\\n3. **Olympic National Park**: Located on the Olympic Peninsula in Washington state, this park offers orca sightings in the Pacific Ocean and surrounding waters.\\n4. **Neah Bay**: Located on the Olympic Peninsula, Neah Bay is a popular spot for orca sightings, particularly during the summer months.\\n\\nThe best time to see orcas in these locations is during the summer months (June to September), when the waters are calmer and the orcas are more active.\\n\\nKeep in mind that orca sightings are not guaranteed, as they are wild animals and their behavior can be unpredictable. However, visiting these locations during the peak season increases your chances of spotting these magnificent creatures.\\n\\nWould you like to know more about orcas or their habitats?', additional_kwargs={}, response_metadata={'token_usage': {'completion_tokens': 273, 'prompt_tokens': 91, 'total_tokens': 364, 'completion_time': 0.405902447, 'prompt_time': 0.005368292, 'queue_time': 0.050075398, 'total_time': 0.411270739}, 'model_name': 'llama-3.1-8b-instant', 'system_fingerprint': 'fp_c54ae48ece', 'service_tier': 'on_demand', 'finish_reason': 'stop', 'logprobs': None}, id='run--580113a2-958d-4b55-896a-ca330b9621a8-0', usage_metadata={'input_tokens': 91, 'output_tokens': 273, 'total_tokens': 364})"
      ]
     },
     "execution_count": 5,
     "metadata": {},
     "output_type": "execute_result"
    }
   ],
   "source": [
    "response = model1.invoke(messages)\n",
    "response"
   ]
  },
  {
   "cell_type": "code",
   "execution_count": 6,
   "id": "f37b351f",
   "metadata": {},
   "outputs": [
    {
     "data": {
      "text/plain": [
       "'The best place to see Orcas (also known as killer whales) in the US is in the Pacific Northwest, particularly in the waters around Washington state and British Columbia, Canada. \\n\\nSome popular locations for orca sightings include:\\n\\n1. **Puget Sound**: Specifically, the San Juan Islands, which are located between the mainland and Vancouver Island. This area is home to the Southern Resident orcas, a distinct population of orcas that feed on salmon.\\n2. **San Juan Islands National Wildlife Refuge**: This refuge is a protected area that provides a safe habitat for orcas and other marine wildlife.\\n3. **Olympic National Park**: Located on the Olympic Peninsula in Washington state, this park offers orca sightings in the Pacific Ocean and surrounding waters.\\n4. **Neah Bay**: Located on the Olympic Peninsula, Neah Bay is a popular spot for orca sightings, particularly during the summer months.\\n\\nThe best time to see orcas in these locations is during the summer months (June to September), when the waters are calmer and the orcas are more active.\\n\\nKeep in mind that orca sightings are not guaranteed, as they are wild animals and their behavior can be unpredictable. However, visiting these locations during the peak season increases your chances of spotting these magnificent creatures.\\n\\nWould you like to know more about orcas or their habitats?'"
      ]
     },
     "execution_count": 6,
     "metadata": {},
     "output_type": "execute_result"
    }
   ],
   "source": [
    "# to show the content from response\n",
    "response.content"
   ]
  },
  {
   "cell_type": "code",
   "execution_count": 7,
   "id": "6fe73363",
   "metadata": {},
   "outputs": [
    {
     "data": {
      "text/plain": [
       "{'input_tokens': 91, 'output_tokens': 273, 'total_tokens': 364}"
      ]
     },
     "execution_count": 7,
     "metadata": {},
     "output_type": "execute_result"
    }
   ],
   "source": [
    "# to show the metadata from response\n",
    "response.usage_metadata"
   ]
  },
  {
   "cell_type": "code",
   "execution_count": null,
   "id": "e0c6966c",
   "metadata": {},
   "outputs": [],
   "source": []
  },
  {
   "cell_type": "markdown",
   "id": "3373e2ae",
   "metadata": {},
   "source": [
    "# Adding Tools supports :-Tools are useful whenever you want a model to interact with external systems(apis,databases,internet searching..so on)."
   ]
  },
  {
   "cell_type": "code",
   "execution_count": 8,
   "id": "08460f71",
   "metadata": {},
   "outputs": [],
   "source": [
    "from langchain_core.tools import  tool,Tool\n",
    "\n",
    "#now adding multiplication tool to my llm system.\n",
    "@tool\n",
    "def multiplication(a:float,b:float) -> float:\n",
    "    \"\"\"multiplying two operands with help of multipication operators\"\"\"\n",
    "    \n",
    "    return a*b\n"
   ]
  },
  {
   "cell_type": "code",
   "execution_count": 9,
   "id": "295c685b",
   "metadata": {},
   "outputs": [
    {
     "data": {
      "text/plain": [
       "langchain_core.tools.structured.StructuredTool"
      ]
     },
     "execution_count": 9,
     "metadata": {},
     "output_type": "execute_result"
    }
   ],
   "source": [
    "type(multiplication)"
   ]
  },
  {
   "cell_type": "code",
   "execution_count": 10,
   "id": "9c1b6ea1",
   "metadata": {},
   "outputs": [
    {
     "data": {
      "text/plain": [
       "RunnableBinding(bound=ChatOpenAI(client=<openai.resources.chat.completions.completions.Completions object at 0x000001A58F5B1240>, async_client=<openai.resources.chat.completions.completions.AsyncCompletions object at 0x000001A58F5E0280>, root_client=<openai.OpenAI object at 0x000001A58F5B19C0>, root_async_client=<openai.AsyncOpenAI object at 0x000001A5909B4F10>, temperature=0.0, model_kwargs={}, openai_api_key=SecretStr('**********')), kwargs={'tools': [{'type': 'function', 'function': {'name': 'multiplication', 'description': 'multiplying two operands with help of multipication operators', 'parameters': {'properties': {'a': {'type': 'number'}, 'b': {'type': 'number'}}, 'required': ['a', 'b'], 'type': 'object'}}}]}, config={}, config_factories=[])"
      ]
     },
     "execution_count": 10,
     "metadata": {},
     "output_type": "execute_result"
    }
   ],
   "source": [
    "#now binding this multiply tool with llm.\n",
    "llm_with_tool = model2.bind_tools(tools=[multiplication])\n",
    "llm_with_tool"
   ]
  },
  {
   "cell_type": "code",
   "execution_count": 11,
   "id": "934b0e42",
   "metadata": {},
   "outputs": [
    {
     "data": {
      "text/plain": [
       "AIMessage(content='', additional_kwargs={'tool_calls': [{'id': 'call_zYWpWdex9HtLOpwpvQzemGWi', 'function': {'arguments': '{\"a\": 2, \"b\": 3}', 'name': 'multiplication'}, 'type': 'function'}], 'refusal': None}, response_metadata={'token_usage': {'completion_tokens': 34, 'prompt_tokens': 60, 'total_tokens': 94, 'completion_tokens_details': {'accepted_prediction_tokens': 0, 'audio_tokens': 0, 'reasoning_tokens': 0, 'rejected_prediction_tokens': 0}, 'prompt_tokens_details': {'audio_tokens': 0, 'cached_tokens': 0}}, 'model_name': 'gpt-3.5-turbo-0125', 'system_fingerprint': None, 'id': 'chatcmpl-CGNNGnW8ZIrCEu9NVlT9FVd7612K7', 'service_tier': 'default', 'finish_reason': 'tool_calls', 'logprobs': None}, id='run--07ddac1b-bc43-4203-af09-065d466097c8-0', tool_calls=[{'name': 'multiplication', 'args': {'a': 2, 'b': 3}, 'id': 'call_zYWpWdex9HtLOpwpvQzemGWi', 'type': 'tool_call'}], usage_metadata={'input_tokens': 60, 'output_tokens': 34, 'total_tokens': 94, 'input_token_details': {'audio': 0, 'cache_read': 0}, 'output_token_details': {'audio': 0, 'reasoning': 0}})"
      ]
     },
     "execution_count": 11,
     "metadata": {},
     "output_type": "execute_result"
    }
   ],
   "source": [
    "tool_call = llm_with_tool.invoke([HumanMessage(content=f\"What is 2 multiplied by 3\", name=\"user\")])\n",
    "tool_call"
   ]
  },
  {
   "cell_type": "code",
   "execution_count": 12,
   "id": "5961902f",
   "metadata": {},
   "outputs": [
    {
     "data": {
      "text/plain": [
       "[{'name': 'multiplication',\n",
       "  'args': {'a': 2, 'b': 3},\n",
       "  'id': 'call_zYWpWdex9HtLOpwpvQzemGWi',\n",
       "  'type': 'tool_call'}]"
      ]
     },
     "execution_count": 12,
     "metadata": {},
     "output_type": "execute_result"
    }
   ],
   "source": [
    "tool_call.tool_calls"
   ]
  },
  {
   "cell_type": "code",
   "execution_count": 13,
   "id": "5bb117be",
   "metadata": {},
   "outputs": [
    {
     "data": {
      "text/plain": [
       "AIMessage(content='The capital of India is New Delhi.', additional_kwargs={'refusal': None}, response_metadata={'token_usage': {'completion_tokens': 9, 'prompt_tokens': 58, 'total_tokens': 67, 'completion_tokens_details': {'accepted_prediction_tokens': 0, 'audio_tokens': 0, 'reasoning_tokens': 0, 'rejected_prediction_tokens': 0}, 'prompt_tokens_details': {'audio_tokens': 0, 'cached_tokens': 0}}, 'model_name': 'gpt-3.5-turbo-0125', 'system_fingerprint': None, 'id': 'chatcmpl-CGNNH6FphrNNWXg9n9DgWvAra2GAj', 'service_tier': 'default', 'finish_reason': 'stop', 'logprobs': None}, id='run--9323863d-1d5f-4f40-8f1e-ed15900865d1-0', usage_metadata={'input_tokens': 58, 'output_tokens': 9, 'total_tokens': 67, 'input_token_details': {'audio': 0, 'cache_read': 0}, 'output_token_details': {'audio': 0, 'reasoning': 0}})"
      ]
     },
     "execution_count": 13,
     "metadata": {},
     "output_type": "execute_result"
    }
   ],
   "source": [
    "tool_call2 = llm_with_tool.invoke([HumanMessage(content=f\"what is the capital of india\", name=\"user\")])\n",
    "tool_call2"
   ]
  },
  {
   "cell_type": "markdown",
   "id": "1cc25ae6",
   "metadata": {},
   "source": [
    "### conclusion:- if i bind tool with llm then llm will decide based on user query either they have to call tool or just repond normally using LLM"
   ]
  },
  {
   "cell_type": "code",
   "execution_count": null,
   "id": "5356942c",
   "metadata": {},
   "outputs": [],
   "source": []
  },
  {
   "cell_type": "markdown",
   "id": "085ef077",
   "metadata": {},
   "source": [
    "## now we gonna see how we can used tools in chatbot"
   ]
  },
  {
   "cell_type": "markdown",
   "id": "02995d99",
   "metadata": {},
   "source": [
    "### Using messages state or memory"
   ]
  },
  {
   "cell_type": "code",
   "execution_count": 14,
   "id": "aa8046ee",
   "metadata": {},
   "outputs": [],
   "source": [
    "from typing import TypedDict,Annotated\n",
    "from langchain_core.messages import AnyMessage #means anykind of message it will store in this list\n",
    "from langgraph.graph.message import add_messages\n",
    "\n",
    "class MessagesState(TypedDict):\n",
    "    messages: Annotated[list[AnyMessage], add_messages] #add_messgae is reducer will perform adding operation of msg generated by LLM"
   ]
  },
  {
   "cell_type": "markdown",
   "id": "7097c06b",
   "metadata": {},
   "source": [
    "### example showing how add messages will work"
   ]
  },
  {
   "cell_type": "code",
   "execution_count": 15,
   "id": "6664e74f",
   "metadata": {},
   "outputs": [],
   "source": [
    "#creating another class that inherit the state schema class\n",
    "\n",
    "class MessagesState(MessagesState):\n",
    "    # Add any keys needed beyond messages, which is pre-built \n",
    "    pass"
   ]
  },
  {
   "cell_type": "code",
   "execution_count": 16,
   "id": "26ae1a78",
   "metadata": {},
   "outputs": [
    {
     "data": {
      "text/plain": [
       "[AIMessage(content='Hello! How can I assist you?', additional_kwargs={}, response_metadata={}, name='Model', id='36593d38-3e4d-4642-8961-312086134c52'),\n",
       " HumanMessage(content=\"I'm looking for information on marine biology.\", additional_kwargs={}, response_metadata={}, name='user', id='f00105c0-da81-41ca-beb6-7c4b09b71466'),\n",
       " AIMessage(content='Sure, I can help with that. What specifically are you interested in?', additional_kwargs={}, response_metadata={}, name='user', id='f55edb4d-1cdd-40c2-80e9-51da41888a02')]"
      ]
     },
     "execution_count": 16,
     "metadata": {},
     "output_type": "execute_result"
    }
   ],
   "source": [
    "# Initial state\n",
    "initial_messages = [AIMessage(content=\"Hello! How can I assist you?\", name=\"Model\"),\n",
    "                    HumanMessage(content=\"I'm looking for information on marine biology.\", name=\"user\")\n",
    "                   ]\n",
    "\n",
    "# New message to add\n",
    "new_message = AIMessage(content=\"Sure, I can help with that. What specifically are you interested in?\", name=\"user\")\n",
    "\n",
    "\n",
    "#testing how add messages are working.\n",
    "add_messages(initial_messages,new_message) #reqd 2 list of messages"
   ]
  },
  {
   "cell_type": "code",
   "execution_count": null,
   "id": "8e46251e",
   "metadata": {},
   "outputs": [],
   "source": []
  },
  {
   "cell_type": "markdown",
   "id": "2e008fe6",
   "metadata": {},
   "source": [
    "# Lets create Graph that can call tools based on user query"
   ]
  },
  {
   "cell_type": "code",
   "execution_count": 17,
   "id": "fd0578d2",
   "metadata": {},
   "outputs": [
    {
     "data": {
      "text/plain": [
       "<langgraph.graph.state.StateGraph at 0x1a590ce30a0>"
      ]
     },
     "execution_count": 17,
     "metadata": {},
     "output_type": "execute_result"
    }
   ],
   "source": [
    "from langgraph.graph import StateGraph\n",
    "graph = StateGraph(state_schema=MessagesState)\n",
    "graph"
   ]
  },
  {
   "cell_type": "code",
   "execution_count": 18,
   "id": "7c34af0b",
   "metadata": {},
   "outputs": [],
   "source": [
    "def tool_calling_llm(state:MessagesState) ->MessagesState:\n",
    "    #fetching the message from state.\n",
    "    messages = state['messages']\n",
    "    \n",
    "    #sending this msg to llm model\n",
    "    response = llm_with_tool.invoke(messages)\n",
    "    \n",
    "    #return this response to state or updating it.\n",
    "    return {\n",
    "        \"messages\":[response] #passing entire AI content to state memory\n",
    "    }"
   ]
  },
  {
   "cell_type": "code",
   "execution_count": 19,
   "id": "7d881c06",
   "metadata": {},
   "outputs": [
    {
     "data": {
      "image/png": "[encoded data removed]",
      "text/plain": [
       "<langgraph.graph.state.CompiledStateGraph object at 0x000001A590FDA650>"
      ]
     },
     "execution_count": 19,
     "metadata": {},
     "output_type": "execute_result"
    }
   ],
   "source": [
    "from langgraph.graph import START,END\n",
    "#building nodes and edges\n",
    "graph.add_node(node=\"tool_calling_llm\",action=tool_calling_llm)\n",
    "\n",
    "#adding edges to graph.\n",
    "graph.add_edge(START,\"tool_calling_llm\")\n",
    "graph.add_edge('tool_calling_llm',END)\n",
    "\n",
    "graph.compile()"
   ]
  },
  {
   "cell_type": "code",
   "execution_count": 20,
   "id": "2e9b1b00",
   "metadata": {},
   "outputs": [],
   "source": [
    "#worklfow.\n",
    "workflow = graph.compile()"
   ]
  },
  {
   "cell_type": "code",
   "execution_count": 21,
   "id": "135d519f",
   "metadata": {},
   "outputs": [
    {
     "data": {
      "text/plain": [
       "{'messages': [HumanMessage(content='Hello!', additional_kwargs={}, response_metadata={}, id='89894a70-24c7-4d6c-8ac9-95a14991652e'),\n",
       "  AIMessage(content='Hi there! How can I assist you today?', additional_kwargs={'refusal': None}, response_metadata={'token_usage': {'completion_tokens': 11, 'prompt_tokens': 53, 'total_tokens': 64, 'completion_tokens_details': {'accepted_prediction_tokens': 0, 'audio_tokens': 0, 'reasoning_tokens': 0, 'rejected_prediction_tokens': 0}, 'prompt_tokens_details': {'audio_tokens': 0, 'cached_tokens': 0}}, 'model_name': 'gpt-3.5-turbo-0125', 'system_fingerprint': None, 'id': 'chatcmpl-CGNNIy8QXsVSUCSqg93SGlB7TwTjZ', 'service_tier': 'default', 'finish_reason': 'stop', 'logprobs': None}, id='run--dc26095f-3a5c-4bbc-91b6-2cb33caf2f61-0', usage_metadata={'input_tokens': 53, 'output_tokens': 11, 'total_tokens': 64, 'input_token_details': {'audio': 0, 'cache_read': 0}, 'output_token_details': {'audio': 0, 'reasoning': 0}})]}"
      ]
     },
     "execution_count": 21,
     "metadata": {},
     "output_type": "execute_result"
    }
   ],
   "source": [
    "messages = workflow.invoke({\"messages\": HumanMessage(content=\"Hello!\")})\n",
    "messages"
   ]
  },
  {
   "cell_type": "code",
   "execution_count": 22,
   "id": "2d9a3cb3",
   "metadata": {},
   "outputs": [
    {
     "name": "stdout",
     "output_type": "stream",
     "text": [
      "================================\u001b[1m Human Message \u001b[0m=================================\n",
      "\n",
      "Hello!\n",
      "==================================\u001b[1m Ai Message \u001b[0m==================================\n",
      "\n",
      "Hi there! How can I assist you today?\n"
     ]
    }
   ],
   "source": [
    "for m in messages['messages']:\n",
    "    m.pretty_print()"
   ]
  },
  {
   "cell_type": "markdown",
   "id": "2b12879b",
   "metadata": {},
   "source": [
    "## how automatically llm will call tools"
   ]
  },
  {
   "cell_type": "code",
   "execution_count": 24,
   "id": "8334e882",
   "metadata": {},
   "outputs": [
    {
     "name": "stdout",
     "output_type": "stream",
     "text": [
      "================================\u001b[1m Human Message \u001b[0m=================================\n",
      "\n",
      "Multiply 2 and 3\n",
      "==================================\u001b[1m Ai Message \u001b[0m==================================\n",
      "Tool Calls:\n",
      "  multiplication (call_tYKx4KpQrInV1kr3zHYJ1N4m)\n",
      " Call ID: call_tYKx4KpQrInV1kr3zHYJ1N4m\n",
      "  Args:\n",
      "    a: 2\n",
      "    b: 3\n"
     ]
    }
   ],
   "source": [
    "messages = workflow.invoke({\"messages\": HumanMessage(content=\"Multiply 2 and 3\")})\n",
    "for m in messages['messages']:\n",
    "    m.pretty_print()"
   ]
  },
  {
   "cell_type": "code",
   "execution_count": null,
   "id": "ad76ee75",
   "metadata": {},
   "outputs": [],
   "source": []
  },
  {
   "cell_type": "code",
   "execution_count": null,
   "id": "fdbe5eba",
   "metadata": {},
   "outputs": [],
   "source": []
  },
  {
   "cell_type": "code",
   "execution_count": null,
   "id": "e8309e56",
   "metadata": {},
   "outputs": [],
   "source": []
  },
  {
   "cell_type": "code",
   "execution_count": null,
   "id": "fb679ee9",
   "metadata": {},
   "outputs": [],
   "source": []
  },
  {
   "cell_type": "code",
   "execution_count": null,
   "id": "2d0c98f7",
   "metadata": {},
   "outputs": [],
   "source": []
  },
  {
   "cell_type": "code",
   "execution_count": null,
   "id": "6daca5f1",
   "metadata": {},
   "outputs": [],
   "source": []
  }
 ],
 "metadata": {
  "kernelspec": {
   "display_name": "hf-gpu",
   "language": "python",
   "name": "python3"
  },
  "language_info": {
   "codemirror_mode": {
    "name": "ipython",
    "version": 3
   },
   "file_extension": ".py",
   "mimetype": "text/x-python",
   "name": "python",
   "nbconvert_exporter": "python",
   "pygments_lexer": "ipython3",
   "version": "3.10.18"
  }
 },
 "nbformat": 4,
 "nbformat_minor": 5
}
