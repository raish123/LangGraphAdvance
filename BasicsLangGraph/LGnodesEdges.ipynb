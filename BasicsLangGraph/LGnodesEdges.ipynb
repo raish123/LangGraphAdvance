{
 "cells": [
  {
   "cell_type": "code",
   "execution_count": 1,
   "id": "fc53ae31",
   "metadata": {},
   "outputs": [
    {
     "data": {
      "text/plain": [
       "True"
      ]
     },
     "execution_count": 1,
     "metadata": {},
     "output_type": "execute_result"
    }
   ],
   "source": [
    "#below classes we used to interact with any llm model\n",
    "from langchain_groq import ChatGroq\n",
    "from langchain_openai import ChatOpenAI\n",
    "from langchain_huggingface import ChatHuggingFace,HuggingFaceEndpoint\n",
    "\n",
    "#to convert the simple user query to Prompt we are using Chatprompttemplate,prompttemplate\n",
    "from langchain_core.prompts import PromptTemplate,ChatPromptTemplate\n",
    "\n",
    "#parser classes to parser \n",
    "from langchain_core.output_parsers import StrOutputParser,PydanticOutputParser\n",
    "\n",
    "#loading the env filter\n",
    "from dotenv import load_dotenv\n",
    "\n",
    "load_dotenv()"
   ]
  },
  {
   "cell_type": "code",
   "execution_count": 2,
   "id": "ae7d0023",
   "metadata": {},
   "outputs": [],
   "source": [
    "#creating an object of chatGroq class\n",
    "model1 = ChatGroq(\n",
    "    model=\"llama-3.1-8b-instant\",temperature=0 #temperature is called creative parameter\n",
    ")\n",
    "\n",
    "#creating an object openai model class\n",
    "model2 = ChatOpenAI(\n",
    "    model=\"gpt-3.5-turbo\",temperature=0\n",
    ")\n",
    "\n",
    "#creating an object open source model.\n",
    "#HuggingFaceEndpoint is a class where we are sending or hitting user query request to get response\n",
    "llm = HuggingFaceEndpoint(  \n",
    "        repo_id=\"meta-llama/Meta-Llama-3-8B-Instruct\",  \n",
    "        task=\"text-generation\",  \n",
    "        )  \n",
    "model3 = ChatHuggingFace(llm=llm)"
   ]
  },
  {
   "cell_type": "markdown",
   "id": "7bf4639a",
   "metadata": {},
   "source": [
    "# statefull or memory define as a workflow schema"
   ]
  },
  {
   "cell_type": "code",
   "execution_count": 3,
   "id": "d0459bb4",
   "metadata": {},
   "outputs": [],
   "source": [
    "from typing import TypedDict\n",
    "\n",
    "class LearningState(TypedDict):\n",
    "    graph_state : str\n"
   ]
  },
  {
   "cell_type": "markdown",
   "id": "bc8f325a",
   "metadata": {},
   "source": [
    "# Nodes in LanGraph sequential workflow defining"
   ]
  },
  {
   "cell_type": "code",
   "execution_count": 4,
   "id": "edde85d3",
   "metadata": {},
   "outputs": [],
   "source": [
    "def node_1(state):\n",
    "    print(\"---Node 1---\")\n",
    "    return {\"graph_state\": state['graph_state'] +\" I am\"}\n",
    "\n",
    "def node_2(state):\n",
    "    print(\"---Node 2---\")\n",
    "    return {\"graph_state\": state['graph_state'] +\" happy!\"}\n",
    "\n",
    "def node_3(state):\n",
    "    print(\"---Node 3---\")\n",
    "    return {\"graph_state\": state['graph_state'] +\" sad!\"}"
   ]
  },
  {
   "cell_type": "code",
   "execution_count": 5,
   "id": "570a91e3",
   "metadata": {},
   "outputs": [
    {
     "data": {
      "text/plain": [
       "<langgraph.graph.state.StateGraph at 0x18d11053bb0>"
      ]
     },
     "execution_count": 5,
     "metadata": {},
     "output_type": "execute_result"
    }
   ],
   "source": [
    "#creating stategraph object.\n",
    "from langgraph.graph import StateGraph,START,END\n",
    "\n",
    "builder = StateGraph(state_schema=LearningState)\n",
    "builder"
   ]
  },
  {
   "cell_type": "code",
   "execution_count": 6,
   "id": "3d3cae93",
   "metadata": {},
   "outputs": [
    {
     "data": {
      "text/plain": [
       "<langgraph.graph.state.StateGraph at 0x18d11053bb0>"
      ]
     },
     "execution_count": 6,
     "metadata": {},
     "output_type": "execute_result"
    }
   ],
   "source": [
    "#now adding to the graph or constructing the Graph.\n",
    "builder.add_node(node='node_1',action=node_1)\n",
    "builder.add_node(node='node_2',action=node_2)\n",
    "builder.add_node(node='node_3',action=node_3)"
   ]
  },
  {
   "cell_type": "code",
   "execution_count": 7,
   "id": "9e85fa02",
   "metadata": {},
   "outputs": [
    {
     "data": {
      "text/plain": [
       "<langgraph.graph.state.StateGraph at 0x18d11053bb0>"
      ]
     },
     "execution_count": 7,
     "metadata": {},
     "output_type": "execute_result"
    }
   ],
   "source": [
    "#now adding edges to the graph object.\n",
    "builder.add_edge(start_key=START,end_key='node_1')\n",
    "builder.add_edge(start_key='node_1',end_key='node_2')\n",
    "builder.add_edge(start_key='node_2',end_key='node_3')\n",
    "builder.add_edge(start_key='node_3',end_key=END)\n"
   ]
  },
  {
   "cell_type": "code",
   "execution_count": 8,
   "id": "ee836f3b",
   "metadata": {},
   "outputs": [
    {
     "data": {
      "image/png": "[encoded data removed]",
      "text/plain": [
       "<langgraph.graph.state.CompiledStateGraph object at 0x0000018D11053DC0>"
      ]
     },
     "execution_count": 8,
     "metadata": {},
     "output_type": "execute_result"
    }
   ],
   "source": [
    "#now compiling the graph\n",
    "builder.compile()"
   ]
  },
  {
   "cell_type": "code",
   "execution_count": 9,
   "id": "26333d67",
   "metadata": {},
   "outputs": [],
   "source": [
    "#complied workflow\n",
    "wokflow : LearningState = builder.compile()"
   ]
  },
  {
   "cell_type": "code",
   "execution_count": 10,
   "id": "2e33b5a3",
   "metadata": {},
   "outputs": [
    {
     "data": {
      "text/plain": [
       "{'graph_state': 'Hi'}"
      ]
     },
     "execution_count": 10,
     "metadata": {},
     "output_type": "execute_result"
    }
   ],
   "source": [
    "#passing the initial state or memory to my workflow.\n",
    "inital_state = LearningState(graph_state='Hi')\n",
    "inital_state"
   ]
  },
  {
   "cell_type": "code",
   "execution_count": 11,
   "id": "36098942",
   "metadata": {},
   "outputs": [
    {
     "name": "stdout",
     "output_type": "stream",
     "text": [
      "---Node 1---\n",
      "---Node 2---\n",
      "---Node 3---\n"
     ]
    },
    {
     "data": {
      "text/plain": [
       "{'graph_state': 'Hi I am happy! sad!'}"
      ]
     },
     "execution_count": 11,
     "metadata": {},
     "output_type": "execute_result"
    }
   ],
   "source": [
    "wokflow.invoke(inital_state)"
   ]
  },
  {
   "cell_type": "code",
   "execution_count": null,
   "id": "57235697",
   "metadata": {},
   "outputs": [],
   "source": []
  },
  {
   "cell_type": "markdown",
   "id": "9c18ccdd",
   "metadata": {},
   "source": [
    "# case:-b)  Now adding LLM to lanGraph Workflow"
   ]
  },
  {
   "cell_type": "code",
   "execution_count": 12,
   "id": "da31d04d",
   "metadata": {},
   "outputs": [],
   "source": [
    "#creating a stateschema using dataclasses \n",
    "from dataclasses import dataclass\n",
    "from typing import Optional\n",
    "\n",
    "@dataclass\n",
    "class FirstLLMAgentState():\n",
    "    prompt:str\n",
    "    output:Optional[str] = None"
   ]
  },
  {
   "cell_type": "code",
   "execution_count": 13,
   "id": "c589b4d1",
   "metadata": {},
   "outputs": [
    {
     "data": {
      "text/plain": [
       "<langgraph.graph.state.StateGraph at 0x18d11053130>"
      ]
     },
     "execution_count": 13,
     "metadata": {},
     "output_type": "execute_result"
    }
   ],
   "source": [
    "#creating an object of stateGraph\n",
    "graph = StateGraph(state_schema=FirstLLMAgentState)\n",
    "graph"
   ]
  },
  {
   "cell_type": "code",
   "execution_count": 14,
   "id": "52fee1c2",
   "metadata": {},
   "outputs": [],
   "source": [
    "from langchain_core.messages.ai import AIMessage"
   ]
  },
  {
   "cell_type": "code",
   "execution_count": 15,
   "id": "f89470f6",
   "metadata": {},
   "outputs": [],
   "source": [
    "def calling_llm(state:FirstLLMAgentState) ->FirstLLMAgentState:\n",
    "    parser = StrOutputParser()\n",
    "    #fetching the user prompt from state class.\n",
    "    user_prompt = state.prompt\n",
    "    \n",
    "    #chain is runnable so we can invoke.\n",
    "    ai_response :AIMessage = model1.invoke(user_prompt)\n",
    "    \n",
    "    \n",
    "    #updating the partial state.\n",
    "    return {\n",
    "        \n",
    "        \"output\" : ai_response.content\n",
    "    }\n",
    "    "
   ]
  },
  {
   "cell_type": "code",
   "execution_count": 16,
   "id": "ba1a8294",
   "metadata": {},
   "outputs": [
    {
     "data": {
      "text/plain": [
       "<langgraph.graph.state.StateGraph at 0x18d11053130>"
      ]
     },
     "execution_count": 16,
     "metadata": {},
     "output_type": "execute_result"
    }
   ],
   "source": [
    "#now adding nodes and edges to graph.\n",
    "graph.add_node(node=\"calling_llm\",action=calling_llm)"
   ]
  },
  {
   "cell_type": "code",
   "execution_count": 17,
   "id": "8fb3751f",
   "metadata": {},
   "outputs": [
    {
     "data": {
      "text/plain": [
       "<langgraph.graph.state.StateGraph at 0x18d11053130>"
      ]
     },
     "execution_count": 17,
     "metadata": {},
     "output_type": "execute_result"
    }
   ],
   "source": [
    "#adding the  edges to worklfow.\n",
    "graph.add_edge(START,\"calling_llm\")\n",
    "graph.add_edge(\"calling_llm\",END)"
   ]
  },
  {
   "cell_type": "code",
   "execution_count": 18,
   "id": "6507a448",
   "metadata": {},
   "outputs": [
    {
     "data": {
      "image/png": "[encoded data removed]",
      "text/plain": [
       "<langgraph.graph.state.CompiledStateGraph object at 0x0000018D10DE7C70>"
      ]
     },
     "execution_count": 18,
     "metadata": {},
     "output_type": "execute_result"
    }
   ],
   "source": [
    "#compiling the graph\n",
    "graph.compile()"
   ]
  },
  {
   "cell_type": "code",
   "execution_count": 19,
   "id": "703bdc04",
   "metadata": {},
   "outputs": [],
   "source": [
    "#compiling the worklfow\n",
    "workflow2 = graph.compile()"
   ]
  },
  {
   "cell_type": "code",
   "execution_count": 20,
   "id": "eb5b489e",
   "metadata": {},
   "outputs": [
    {
     "data": {
      "text/plain": [
       "{'prompt': 'Hello how are you',\n",
       " 'output': \"I'm just a computer program, so I don't have feelings, but I'm functioning properly and ready to help you with any questions or tasks you may have. How can I assist you today?\"}"
      ]
     },
     "execution_count": 20,
     "metadata": {},
     "output_type": "execute_result"
    }
   ],
   "source": [
    "#passing the initial state to workflow2.\n",
    "#syncrously execution graph from top to bottom\n",
    "\n",
    "initial = FirstLLMAgentState(prompt=\"Hello how are you\")\n",
    "\n",
    "#passing the initial to my worklfow2 to start node.\n",
    "response = workflow2.invoke(initial)\n",
    "response"
   ]
  },
  {
   "cell_type": "code",
   "execution_count": 21,
   "id": "a9c8d8ff",
   "metadata": {},
   "outputs": [
    {
     "data": {
      "text/plain": [
       "dict"
      ]
     },
     "execution_count": 21,
     "metadata": {},
     "output_type": "execute_result"
    }
   ],
   "source": [
    "type(response)"
   ]
  },
  {
   "cell_type": "markdown",
   "id": "58af9d49",
   "metadata": {},
   "source": [
    "# case:c) Making conditional workflow"
   ]
  },
  {
   "cell_type": "code",
   "execution_count": 22,
   "id": "321f0ae0",
   "metadata": {},
   "outputs": [],
   "source": [
    "from typing import TypedDict\n",
    "\n",
    "class LearningState2(TypedDict):\n",
    "    graph_state : str\n"
   ]
  },
  {
   "cell_type": "code",
   "execution_count": 23,
   "id": "8dda7bfd",
   "metadata": {},
   "outputs": [],
   "source": [
    "def node__1(state:LearningState2) -> LearningState2:\n",
    "    print(\"---Node 1---\")\n",
    "    #partially updating the state.\n",
    "    return {\"graph_state\": state['graph_state'] +\" I am\"}\n",
    "\n",
    "def node__2(state:LearningState2) -> LearningState2:\n",
    "    print(\"---Node 2---\")\n",
    "    return {\"graph_state\": state['graph_state'] +\" happy!\"}\n",
    "\n",
    "def node__3(state:LearningState2) -> LearningState2:\n",
    "    print(\"---Node 3---\")\n",
    "    return {\"graph_state\": state['graph_state'] +\" sad!\"}"
   ]
  },
  {
   "cell_type": "markdown",
   "id": "fab865c5",
   "metadata": {},
   "source": [
    "# creating router function "
   ]
  },
  {
   "cell_type": "code",
   "execution_count": 24,
   "id": "73320c1c",
   "metadata": {},
   "outputs": [],
   "source": [
    "import numpy as np\n",
    "from typing import Literal\n",
    "def router_function(state:LearningState2) ->Literal[\"node__2\", \"node__3\"]:\n",
    "    user_input = state['graph_state']\n",
    "    \n",
    "    if np.random.random() >0.5:\n",
    "        return \"node__3\"\n",
    "    else:\n",
    "        return \"node__2\"\n",
    "    "
   ]
  },
  {
   "cell_type": "code",
   "execution_count": 25,
   "id": "ae4b664e",
   "metadata": {},
   "outputs": [
    {
     "data": {
      "text/plain": [
       "<langgraph.graph.state.StateGraph at 0x18d11234130>"
      ]
     },
     "execution_count": 25,
     "metadata": {},
     "output_type": "execute_result"
    }
   ],
   "source": [
    "#creating stategraph object.\n",
    "from langgraph.graph import StateGraph,START,END\n",
    "\n",
    "builder2 = StateGraph(state_schema=LearningState2)\n",
    "builder2"
   ]
  },
  {
   "cell_type": "code",
   "execution_count": 26,
   "id": "4a7d58f1",
   "metadata": {},
   "outputs": [
    {
     "data": {
      "text/plain": [
       "<langgraph.graph.state.StateGraph at 0x18d11234130>"
      ]
     },
     "execution_count": 26,
     "metadata": {},
     "output_type": "execute_result"
    }
   ],
   "source": [
    "#now adding to the graph or constructing the Graph.\n",
    "builder2.add_node(node='node__1',action=node__1)\n",
    "builder2.add_node(node='node__2',action=node__2)\n",
    "builder2.add_node(node='node__3',action=node__3)\n"
   ]
  },
  {
   "cell_type": "code",
   "execution_count": 27,
   "id": "9c3178ef",
   "metadata": {},
   "outputs": [
    {
     "data": {
      "text/plain": [
       "<langgraph.graph.state.StateGraph at 0x18d11234130>"
      ]
     },
     "execution_count": 27,
     "metadata": {},
     "output_type": "execute_result"
    }
   ],
   "source": [
    "# adding edges to graph.\n",
    "builder2.add_edge(START,\"node__1\")\n",
    "builder2.add_conditional_edges('node__1',router_function)\n",
    "\n",
    "#adding edges to end.\n",
    "builder2.add_edge(\"node__2\",END)\n",
    "builder2.add_edge(\"node__3\",END)"
   ]
  },
  {
   "cell_type": "code",
   "execution_count": 28,
   "id": "0098a2ec",
   "metadata": {},
   "outputs": [
    {
     "data": {
      "image/png": "[encoded data removed]",
      "text/plain": [
       "<langgraph.graph.state.CompiledStateGraph object at 0x0000018D11235090>"
      ]
     },
     "execution_count": 28,
     "metadata": {},
     "output_type": "execute_result"
    }
   ],
   "source": [
    "#compiling the workflow\n",
    "graph2 = builder2.compile()\n",
    "graph2"
   ]
  },
  {
   "cell_type": "code",
   "execution_count": 30,
   "id": "3fdc8c97",
   "metadata": {},
   "outputs": [
    {
     "name": "stdout",
     "output_type": "stream",
     "text": [
      "---Node 1---\n",
      "---Node 2---\n"
     ]
    },
    {
     "data": {
      "text/plain": [
       "{'graph_state': 'hello I am happy!'}"
      ]
     },
     "execution_count": 30,
     "metadata": {},
     "output_type": "execute_result"
    }
   ],
   "source": [
    "#invoking the graph.\n",
    "graph2.invoke(input=LearningState2(graph_state=\"hello\"))"
   ]
  },
  {
   "cell_type": "code",
   "execution_count": null,
   "id": "8d4ace62",
   "metadata": {},
   "outputs": [],
   "source": [
    "\n"
   ]
  }
 ],
 "metadata": {
  "kernelspec": {
   "display_name": "hf-gpu",
   "language": "python",
   "name": "python3"
  },
  "language_info": {
   "codemirror_mode": {
    "name": "ipython",
    "version": 3
   },
   "file_extension": ".py",
   "mimetype": "text/x-python",
   "name": "python",
   "nbconvert_exporter": "python",
   "pygments_lexer": "ipython3",
   "version": "3.10.18"
  }
 },
 "nbformat": 4,
 "nbformat_minor": 5
}
