{
 "cells": [
  {
   "cell_type": "code",
   "execution_count": 1,
   "id": "970bcf28",
   "metadata": {},
   "outputs": [
    {
     "data": {
      "text/plain": [
       "True"
      ]
     },
     "execution_count": 1,
     "metadata": {},
     "output_type": "execute_result"
    }
   ],
   "source": [
    "#below classes we used to interact with any llm model\n",
    "from langchain_groq import ChatGroq\n",
    "from langchain_openai import ChatOpenAI\n",
    "from langchain_huggingface import ChatHuggingFace,HuggingFaceEndpoint\n",
    "\n",
    "#to convert the simple user query to Prompt we are using Chatprompttemplate,prompttemplate\n",
    "from langchain_core.prompts import PromptTemplate,ChatPromptTemplate\n",
    "\n",
    "#parser classes to parser \n",
    "from langchain_core.output_parsers import StrOutputParser,PydanticOutputParser\n",
    "\n",
    "#loading the env filter\n",
    "from dotenv import load_dotenv\n",
    "\n",
    "from langchain_core.messages import ToolMessage,AIMessage,HumanMessage,SystemMessage\n",
    "\n",
    "load_dotenv()"
   ]
  },
  {
   "cell_type": "code",
   "execution_count": 2,
   "id": "3a5ff6af",
   "metadata": {},
   "outputs": [],
   "source": [
    "#creating an object of chatGroq class\n",
    "model1 = ChatGroq(\n",
    "    model=\"llama-3.1-8b-instant\",temperature=0 #temperature is called creative parameter\n",
    ")\n",
    "\n",
    "#creating an object openai model class\n",
    "model2 = ChatOpenAI(\n",
    "    model=\"gpt-3.5-turbo\",temperature=0\n",
    ")\n",
    "\n",
    "#creating an object open source model.\n",
    "#HuggingFaceEndpoint is a class where we are sending or hitting user query request to get response\n",
    "llm = HuggingFaceEndpoint(  \n",
    "        repo_id=\"meta-llama/Meta-Llama-3-8B-Instruct\",  \n",
    "        task=\"text-generation\",  \n",
    "        )  \n",
    "model3 = ChatHuggingFace(llm=llm)"
   ]
  },
  {
   "cell_type": "markdown",
   "id": "b8434069",
   "metadata": {},
   "source": [
    "# creating tools that can be used in chatBot"
   ]
  },
  {
   "cell_type": "code",
   "execution_count": 3,
   "id": "ad19d766",
   "metadata": {},
   "outputs": [],
   "source": [
    "from langchain_core.tools import Tool,tool\n",
    "#using tavily searching tool.\n",
    "from langchain_tavily import TavilySearch\n",
    "\n",
    "search_tool = TavilySearch(\n",
    "    max_results=2,\n",
    "    topic=\"general\",)\n",
    "\n",
    "\n",
    "\n",
    "# Calculator tool\n",
    "def calculator(first_num: float, second_num: float, operation: str) -> dict:\n",
    "    try:\n",
    "        if operation == \"add\": result = first_num + second_num\n",
    "        elif operation == \"sub\": result = first_num - second_num\n",
    "        elif operation == \"mul\": result = first_num * second_num\n",
    "        elif operation == \"div\": result = first_num / second_num if second_num != 0 else \"Division by zero\"\n",
    "        else: return {\"error\": f\"Unsupported operation {operation}\"}\n",
    "        return {\"first_num\": first_num, \"second_num\": second_num, \"operation\": operation, \"result\": result}\n",
    "    except Exception as e:\n",
    "        return {\"error\": str(e)}\n",
    "\n",
    "calc_tool = Tool(\n",
    "    name=\"Calculator\",\n",
    "    func=calculator,\n",
    "    description=\"Perform basic arithmetic: add, sub, mul, div\"\n",
    ")\n",
    "\n",
    "# Stock price tool\n",
    "import requests\n",
    "def get_stock_price(symbol: str) -> dict:\n",
    "    url = f'https://www.alphavantage.co/query?function=GLOBAL_QUOTE&symbol={symbol}&apikey=1PPNPDOMK62HNKRO'\n",
    "    return requests.get(url).json()\n",
    "\n",
    "stock_tool = Tool(\n",
    "    name=\"StockPrice\",\n",
    "    func=get_stock_price,\n",
    "    description=\"Fetch latest stock price for a given symbol\"\n",
    ")"
   ]
  },
  {
   "cell_type": "code",
   "execution_count": 4,
   "id": "cf8368f9",
   "metadata": {},
   "outputs": [
    {
     "data": {
      "text/plain": [
       "RunnableBinding(bound=ChatOpenAI(client=<openai.resources.chat.completions.completions.Completions object at 0x0000021512FC1240>, async_client=<openai.resources.chat.completions.completions.AsyncCompletions object at 0x0000021512FF02B0>, root_client=<openai.OpenAI object at 0x0000021512FC19C0>, root_async_client=<openai.AsyncOpenAI object at 0x00000215143C4F40>, temperature=0.0, model_kwargs={}, openai_api_key=SecretStr('**********')), kwargs={'tools': [{'type': 'function', 'function': {'name': 'tavily_search', 'description': 'A search engine optimized for comprehensive, accurate, and trusted results. Useful for when you need to answer questions about current events. It not only retrieves URLs and snippets, but offers advanced search depths, domain management, time range filters, and image search, this tool delivers real-time, accurate, and citation-backed results.Input should be a search query.', 'parameters': {'properties': {'query': {'description': 'Search query to look up', 'type': 'string'}, 'include_domains': {'anyOf': [{'items': {'type': 'string'}, 'type': 'array'}, {'type': 'null'}], 'default': [], 'description': 'A list of domains to restrict search results to.\\n\\n        Use this parameter when:\\n        1. The user explicitly requests information from specific websites (e.g., \"Find climate data from nasa.gov\")\\n        2. The user mentions an organization or company without specifying the domain (e.g., \"Find information about iPhones from Apple\")\\n\\n        In both cases, you should determine the appropriate domains (e.g., [\"nasa.gov\"] or [\"apple.com\"]) and set this parameter.\\n\\n        Results will ONLY come from the specified domains - no other sources will be included.\\n        Default is None (no domain restriction).\\n        '}, 'exclude_domains': {'anyOf': [{'items': {'type': 'string'}, 'type': 'array'}, {'type': 'null'}], 'default': [], 'description': 'A list of domains to exclude from search results.\\n\\n        Use this parameter when:\\n        1. The user explicitly requests to avoid certain websites (e.g., \"Find information about climate change but not from twitter.com\")\\n        2. The user mentions not wanting results from specific organizations without naming the domain (e.g., \"Find phone reviews but nothing from Apple\")\\n\\n        In both cases, you should determine the appropriate domains to exclude (e.g., [\"twitter.com\"] or [\"apple.com\"]) and set this parameter.\\n\\n        Results will filter out all content from the specified domains.\\n        Default is None (no domain exclusion).\\n        '}, 'search_depth': {'anyOf': [{'enum': ['basic', 'advanced'], 'type': 'string'}, {'type': 'null'}], 'default': 'basic', 'description': 'Controls search thoroughness and result comprehensiveness.\\n    \\n        Use \"basic\" for simple queries requiring quick, straightforward answers.\\n        \\n        Use \"advanced\" (default) for complex queries, specialized topics, \\n        rare information, or when in-depth analysis is needed.\\n        '}, 'include_images': {'anyOf': [{'type': 'boolean'}, {'type': 'null'}], 'default': False, 'description': 'Determines if the search returns relevant images along with text results.\\n   \\n        Set to True when the user explicitly requests visuals or when images would \\n        significantly enhance understanding (e.g., \"Show me what black holes look like,\" \\n        \"Find pictures of Renaissance art\").\\n        \\n        Leave as False (default) for most informational queries where text is sufficient.\\n        '}, 'time_range': {'anyOf': [{'enum': ['day', 'week', 'month', 'year'], 'type': 'string'}, {'type': 'null'}], 'default': None, 'description': 'Limits results to content published within a specific timeframe.\\n        \\n        ONLY set this when the user explicitly mentions a time period \\n        (e.g., \"latest AI news,\" \"articles from last week\").\\n        \\n        For less popular or niche topics, use broader time ranges \\n        (\"month\" or \"year\") to ensure sufficient relevant results.\\n   \\n        Options: \"day\" (24h), \"week\" (7d), \"month\" (30d), \"year\" (365d).\\n        \\n        Default is None.\\n        '}, 'topic': {'anyOf': [{'enum': ['general', 'news', 'finance'], 'type': 'string'}, {'type': 'null'}], 'default': 'general', 'description': 'Specifies search category for optimized results.\\n   \\n        Use \"general\" (default) for most queries, INCLUDING those with terms like \\n        \"latest,\" \"newest,\" or \"recent\" when referring to general information.\\n\\n        Use \"finance\" for markets, investments, economic data, or financial news.\\n\\n        Use \"news\" ONLY for politics, sports, or major current events covered by \\n        mainstream media - NOT simply because a query asks for \"new\" information.\\n        '}, 'include_favicon': {'anyOf': [{'type': 'boolean'}, {'type': 'null'}], 'default': False, 'description': \"Determines whether to include favicon URLs for each search result.\\n        \\n        When enabled, each search result will include the website's favicon URL,\\n        which can be useful for:\\n        - Building rich UI interfaces with visual website indicators\\n        - Providing visual cues about the source's credibility or brand\\n        - Creating bookmark-like displays with recognizable site icons\\n        \\n        Set to True when creating user interfaces that benefit from visual branding\\n        or when favicon information enhances the user experience.\\n        \\n        Default is False to minimize response size and API usage.\\n        \"}, 'start_date': {'anyOf': [{'type': 'string'}, {'type': 'null'}], 'default': None, 'description': 'Filters search results to include only content published on or after this date.\\n        \\n        Use this parameter when you need to:\\n        - Find recent developments or updates on a topic\\n        - Exclude outdated information from search results\\n        - Focus on content within a specific timeframe\\n        - Combine with end_date to create a custom date range\\n        \\n        Format must be YYYY-MM-DD (e.g., \"2024-01-15\" for January 15, 2024).\\n        \\n        Examples:\\n        - \"2024-01-01\" - Results from January 1, 2024 onwards\\n        - \"2023-12-25\" - Results from December 25, 2023 onwards\\n        \\n        When combined with end_date, creates a precise date range filter.\\n        \\n        Default is None (no start date restriction).\\n        '}, 'end_date': {'anyOf': [{'type': 'string'}, {'type': 'null'}], 'default': None, 'description': 'Filters search results to include only content published on or before this date.\\n        \\n        Use this parameter when you need to:\\n        - Exclude content published after a certain date\\n        - Study historical information or past events\\n        - Research how topics were covered during specific time periods\\n        - Combine with start_date to create a custom date range\\n        \\n        Format must be YYYY-MM-DD (e.g., \"2024-03-31\" for March 31, 2024).\\n        \\n        Examples:\\n        - \"2024-03-31\" - Results up to and including March 31, 2024\\n        - \"2023-12-31\" - Results up to and including December 31, 2023\\n        \\n        When combined with start_date, creates a precise date range filter.\\n        For example: start_date=\"2024-01-01\", end_date=\"2024-03-31\" \\n        returns results from Q1 2024 only.\\n        \\n        Default is None (no end date restriction).\\n        '}}, 'required': ['query'], 'type': 'object'}}}, {'type': 'function', 'function': {'name': 'StockPrice', 'description': 'Fetch latest stock price for a given symbol', 'parameters': {'properties': {'__arg1': {'title': '__arg1', 'type': 'string'}}, 'required': ['__arg1'], 'type': 'object'}}}, {'type': 'function', 'function': {'name': 'Calculator', 'description': 'Perform basic arithmetic: add, sub, mul, div', 'parameters': {'properties': {'__arg1': {'title': '__arg1', 'type': 'string'}}, 'required': ['__arg1'], 'type': 'object'}}}]}, config={}, config_factories=[])"
      ]
     },
     "execution_count": 4,
     "metadata": {},
     "output_type": "execute_result"
    }
   ],
   "source": [
    "#binding the tools with llm\n",
    "lst_tools = [search_tool,stock_tool,calc_tool]\n",
    "llm_with_tool = model2.bind_tools(lst_tools)\n",
    "llm_with_tool"
   ]
  },
  {
   "cell_type": "markdown",
   "id": "ffbe1308",
   "metadata": {},
   "source": [
    "# building the workflow"
   ]
  },
  {
   "cell_type": "code",
   "execution_count": 5,
   "id": "e7acd721",
   "metadata": {},
   "outputs": [],
   "source": [
    "#define the state schema. we can used any of two classes\n",
    "from langchain_core.messages import AnyMessage\n",
    "from langgraph.graph.message import BaseMessage\n",
    "from typing import Annotated,TypedDict\n",
    "from langgraph.graph import StateGraph\n",
    "\n",
    "from langgraph.graph.message import add_messages\n",
    "\n",
    "class MessagesState(TypedDict):\n",
    "    messages: Annotated[list[AnyMessage], add_messages] \n",
    "    #add_messgae is reducer will perform adding/concatenation operation of msg generated by LLM\n",
    "    \n",
    "graph = StateGraph(state_schema=MessagesState)"
   ]
  },
  {
   "cell_type": "markdown",
   "id": "ed7f9985",
   "metadata": {},
   "source": [
    "### We use the built-in ToolNode and simply pass a list of our tools to initialize it nodes of tools in worklfow.\n",
    "\n",
    "### We use the built-in tools_condition as our conditional edge."
   ]
  },
  {
   "cell_type": "code",
   "execution_count": null,
   "id": "76ef3295",
   "metadata": {},
   "outputs": [],
   "source": [
    "def tool_calling_llm(state:MessagesState) ->MessagesState:\n",
    "    #fetching the message from state.\n",
    "    messages = state['messages']\n",
    "    \n",
    "    #sending this msg to llm model\n",
    "    response = llm_with_tool.invoke(messages) #yaha pe llm decide karta hai query solve karne tool use hoga llm generic response dey\n",
    "    \n",
    "    #return this response to state or updating it.\n",
    "    return {\n",
    "        \"messages\":[response] #passing entire AI reponse to state memory in alist format\n",
    "    }\n",
    "    \n",
    "    \n",
    "#creating tool node by using predefined class of toolnode.\n",
    "from langgraph.prebuilt import ToolNode\n",
    "from langgraph.prebuilt import tools_condition\n",
    "\n",
    "\n",
    "\n",
    "tool_calling_node = ToolNode(tools=lst_tools)"
   ]
  },
  {
   "cell_type": "code",
   "execution_count": 7,
   "id": "b880c0ab",
   "metadata": {},
   "outputs": [
    {
     "data": {
      "text/plain": [
       "<langgraph.graph.state.StateGraph at 0x2151498e290>"
      ]
     },
     "execution_count": 7,
     "metadata": {},
     "output_type": "execute_result"
    }
   ],
   "source": [
    "from langgraph.graph import START,END\n",
    "#building nodes and edges\n",
    "graph.add_node(node=\"tool_calling_llm\",action=tool_calling_llm)\n",
    "\n",
    "graph.add_node(node=\"tools\",action=tool_calling_node)"
   ]
  },
  {
   "cell_type": "code",
   "execution_count": 8,
   "id": "ece936b4",
   "metadata": {},
   "outputs": [
    {
     "data": {
      "image/png": "[encoded data removed]",
      "text/plain": [
       "<langgraph.graph.state.CompiledStateGraph object at 0x0000021514B76650>"
      ]
     },
     "execution_count": 8,
     "metadata": {},
     "output_type": "execute_result"
    }
   ],
   "source": [
    "#adding edges to graph.\n",
    "graph.add_edge(START,\"tool_calling_llm\")\n",
    "graph.add_conditional_edges(\n",
    "    \"tool_calling_llm\",\n",
    "    # If the latest message (result) from assistant is a tool call -> tools_condition routes to tools\n",
    "    # If the latest message (result) from assistant is a not a tool call -> tools_condition routes to END\n",
    "    tools_condition,\n",
    ")\n",
    "graph.add_edge(\"tools\", \"tool_calling_llm\")\n",
    "\n",
    "graph.compile()"
   ]
  },
  {
   "cell_type": "code",
   "execution_count": 10,
   "id": "13001de1",
   "metadata": {},
   "outputs": [
    {
     "name": "stdout",
     "output_type": "stream",
     "text": [
      "================================\u001b[1m Human Message \u001b[0m=================================\n",
      "\n",
      "capital of china country\n",
      "==================================\u001b[1m Ai Message \u001b[0m==================================\n",
      "Tool Calls:\n",
      "  tavily_search (call_ks7CegbuZej6Bgrq4NfKJGRX)\n",
      " Call ID: call_ks7CegbuZej6Bgrq4NfKJGRX\n",
      "  Args:\n",
      "    query: capital of China country\n",
      "    search_depth: basic\n",
      "=================================\u001b[1m Tool Message \u001b[0m=================================\n",
      "Name: tavily_search\n",
      "\n",
      "{\"query\": \"capital of China country\", \"follow_up_questions\": null, \"answer\": null, \"images\": [], \"results\": [{\"url\": \"https://en.wikipedia.org/wiki/China\", \"title\": \"China - Wikipedia\", \"content\": \"Beijing is the country's capital, while Shanghai is its most populous city by urban area and largest financial center. People's Republic of China. 中华人民\", \"score\": 0.85216236, \"raw_content\": null}, {\"url\": \"https://clintonwhitehouse3.archives.gov/WH/New/China/beijing.html\", \"title\": \"Beijing - The White House\", \"content\": \"The modern day capital of China is Beijing (literally \\\"Northern Capital\\\"), which first served as China's capital city in 1261, when the Mongol ruler Kublai Khan established his seat of power in the area centered around what is today Beihai Park. The framework of the city as it currently exists, and in particular the maze of interlocking gates and buildings that comprise the Forbidden City, began to take shape in 1402 when Emperor Yongle relocated the Ming court in an effort to secure China's northern frontier. China's emperors governed from the Forbidden City and rarely ventured outside the palace grounds. The Forbidden City is fronted by Tiananmen Gate, a symbol of ruling power in China.\", \"score\": 0.8415267, \"raw_content\": null}], \"response_time\": 1.47, \"request_id\": \"176bacae-0039-41d0-a548-8507d584cdba\"}\n",
      "==================================\u001b[1m Ai Message \u001b[0m==================================\n",
      "\n",
      "The capital of China is Beijing. It is the country's capital and has a rich historical significance. The city first served as China's capital city in 1261. The modern-day capital of China is Beijing, which means \"Northern Capital.\" The city is known for landmarks like the Forbidden City and Tiananmen Gate.\n"
     ]
    }
   ],
   "source": [
    "workflow = graph.compile()\n",
    "from langchain_core.messages import HumanMessage\n",
    "\n",
    "\n",
    "messages = [HumanMessage(content=\"capital of china country\")]\n",
    "\n",
    "##initial state passing to my worklfow\n",
    "messages = workflow.invoke({\"messages\": messages})\n",
    "for m in messages['messages']:\n",
    "    m.pretty_print()"
   ]
  },
  {
   "cell_type": "code",
   "execution_count": 11,
   "id": "337f2d19",
   "metadata": {},
   "outputs": [
    {
     "name": "stdout",
     "output_type": "stream",
     "text": [
      "================================\u001b[1m Human Message \u001b[0m=================================\n",
      "\n",
      "stock price of tesla\n",
      "==================================\u001b[1m Ai Message \u001b[0m==================================\n",
      "Tool Calls:\n",
      "  StockPrice (call_OLC27ICyox2jyX9xUYiD912j)\n",
      " Call ID: call_OLC27ICyox2jyX9xUYiD912j\n",
      "  Args:\n",
      "    __arg1: TSLA\n",
      "=================================\u001b[1m Tool Message \u001b[0m=================================\n",
      "Name: StockPrice\n",
      "\n",
      "{\"Global Quote\": {\"01. symbol\": \"TSLA\", \"02. open\": \"423.1300\", \"03. high\": \"425.7000\", \"04. low\": \"402.4300\", \"05. price\": \"410.0400\", \"06. volume\": \"163823667\", \"07. latest trading day\": \"2025-09-15\", \"08. previous close\": \"395.9400\", \"09. change\": \"14.1000\", \"10. change percent\": \"3.5611%\"}}\n",
      "==================================\u001b[1m Ai Message \u001b[0m==================================\n",
      "\n",
      "The current stock price of Tesla (TSLA) is $410.04. The stock opened at $423.13, with a high of $425.70 and a low of $402.43. The previous close was $395.94, and there has been a change of $14.10 (3.56%) since the previous close. The latest trading day is September 15, 2025.\n"
     ]
    }
   ],
   "source": [
    "messages = [HumanMessage(content=\"stock price of tesla\")]\n",
    "\n",
    "##initial state passing to my worklfow\n",
    "messages = workflow.invoke({\"messages\": messages})\n",
    "for m in messages['messages']:\n",
    "    m.pretty_print()"
   ]
  },
  {
   "cell_type": "code",
   "execution_count": 12,
   "id": "dbd65e2c",
   "metadata": {},
   "outputs": [
    {
     "name": "stdout",
     "output_type": "stream",
     "text": [
      "================================\u001b[1m Human Message \u001b[0m=================================\n",
      "\n",
      "what is 2 * 3?\n",
      "==================================\u001b[1m Ai Message \u001b[0m==================================\n",
      "Tool Calls:\n",
      "  Calculator (call_ulgFxEepDhgf5cGLkb0FPHGK)\n",
      " Call ID: call_ulgFxEepDhgf5cGLkb0FPHGK\n",
      "  Args:\n",
      "    __arg1: 2 * 3\n",
      "=================================\u001b[1m Tool Message \u001b[0m=================================\n",
      "Name: Calculator\n",
      "\n",
      "Error: TypeError(\"calculator() missing 2 required positional arguments: 'second_num' and 'operation'\")\n",
      " Please fix your mistakes.\n",
      "==================================\u001b[1m Ai Message \u001b[0m==================================\n",
      "Tool Calls:\n",
      "  Calculator (call_8thcrWbKvpqrP66uXJuwboA0)\n",
      " Call ID: call_8thcrWbKvpqrP66uXJuwboA0\n",
      "  Args:\n",
      "    __arg1: 2*3\n",
      "=================================\u001b[1m Tool Message \u001b[0m=================================\n",
      "Name: Calculator\n",
      "\n",
      "Error: TypeError(\"calculator() missing 2 required positional arguments: 'second_num' and 'operation'\")\n",
      " Please fix your mistakes.\n",
      "==================================\u001b[1m Ai Message \u001b[0m==================================\n",
      "Tool Calls:\n",
      "  Calculator (call_lIyU9LWzoZuA3ZMpIggP0Udn)\n",
      " Call ID: call_lIyU9LWzoZuA3ZMpIggP0Udn\n",
      "  Args:\n",
      "    __arg1: 2*3\n",
      "=================================\u001b[1m Tool Message \u001b[0m=================================\n",
      "Name: Calculator\n",
      "\n",
      "Error: TypeError(\"calculator() missing 2 required positional arguments: 'second_num' and 'operation'\")\n",
      " Please fix your mistakes.\n",
      "==================================\u001b[1m Ai Message \u001b[0m==================================\n",
      "\n",
      "The result of 2 multiplied by 3 is 6.\n"
     ]
    }
   ],
   "source": [
    "messages = [HumanMessage(content=\"what is 2 * 3?\")]\n",
    "\n",
    "##initial state passing to my worklfow\n",
    "messages = workflow.invoke({\"messages\": messages})\n",
    "for m in messages['messages']:\n",
    "    m.pretty_print()"
   ]
  },
  {
   "cell_type": "code",
   "execution_count": 13,
   "id": "ca110d69",
   "metadata": {},
   "outputs": [
    {
     "name": "stdout",
     "output_type": "stream",
     "text": [
      "================================\u001b[1m Human Message \u001b[0m=================================\n",
      "\n",
      "hello llm\n",
      "==================================\u001b[1m Ai Message \u001b[0m==================================\n",
      "\n",
      "Hello! How can I assist you today?\n"
     ]
    }
   ],
   "source": [
    "messages = [HumanMessage(content=\"hello llm\")]\n",
    "\n",
    "##initial state passing to my worklfow\n",
    "messages = workflow.invoke({\"messages\": messages})\n",
    "for m in messages['messages']:\n",
    "    m.pretty_print()"
   ]
  },
  {
   "cell_type": "code",
   "execution_count": null,
   "id": "6fc84a3d",
   "metadata": {},
   "outputs": [],
   "source": []
  },
  {
   "cell_type": "code",
   "execution_count": 16,
   "id": "db201ea0",
   "metadata": {},
   "outputs": [
    {
     "data": {
      "text/plain": [
       "{'messages': [HumanMessage(content='stock price of apple', additional_kwargs={}, response_metadata={}, id='665cfb6e-ca7a-4eba-870d-feb4f8305aec'),\n",
       "  AIMessage(content='', additional_kwargs={'tool_calls': [{'id': 'call_AJCjhSPJC01yGo6oMgEJixL0', 'function': {'arguments': '{\"__arg1\":\"AAPL\"}', 'name': 'StockPrice'}, 'type': 'function'}], 'refusal': None}, response_metadata={'token_usage': {'completion_tokens': 18, 'prompt_tokens': 1404, 'total_tokens': 1422, 'completion_tokens_details': {'accepted_prediction_tokens': 0, 'audio_tokens': 0, 'reasoning_tokens': 0, 'rejected_prediction_tokens': 0}, 'prompt_tokens_details': {'audio_tokens': 0, 'cached_tokens': 0}}, 'model_name': 'gpt-3.5-turbo-0125', 'system_fingerprint': None, 'id': 'chatcmpl-CGPp1DGnmkf2dQY2VkgTVs3fkRUsS', 'service_tier': 'default', 'finish_reason': 'tool_calls', 'logprobs': None}, id='run--f048782b-0bae-4824-a0c6-6e5840498d2c-0', tool_calls=[{'name': 'StockPrice', 'args': {'__arg1': 'AAPL'}, 'id': 'call_AJCjhSPJC01yGo6oMgEJixL0', 'type': 'tool_call'}], usage_metadata={'input_tokens': 1404, 'output_tokens': 18, 'total_tokens': 1422, 'input_token_details': {'audio': 0, 'cache_read': 0}, 'output_token_details': {'audio': 0, 'reasoning': 0}}),\n",
       "  ToolMessage(content='{\"Global Quote\": {\"01. symbol\": \"AAPL\", \"02. open\": \"237.0000\", \"03. high\": \"238.1900\", \"04. low\": \"235.0300\", \"05. price\": \"236.7000\", \"06. volume\": \"42699524\", \"07. latest trading day\": \"2025-09-15\", \"08. previous close\": \"234.0700\", \"09. change\": \"2.6300\", \"10. change percent\": \"1.1236%\"}}', name='StockPrice', id='9a0c6759-b546-400e-bb32-067bf288eea7', tool_call_id='call_AJCjhSPJC01yGo6oMgEJixL0'),\n",
       "  AIMessage(content='The current stock price of Apple (AAPL) is $236.70. Here are some additional details:\\n- Opening Price: $237.00\\n- Highest Price: $238.19\\n- Lowest Price: $235.03\\n- Previous Close: $234.07\\n- Change: +$2.63\\n- Change Percent: +1.12%\\n- Volume: 42,699,524\\n- Latest Trading Day: September 15, 2025', additional_kwargs={'refusal': None}, response_metadata={'token_usage': {'completion_tokens': 99, 'prompt_tokens': 1548, 'total_tokens': 1647, 'completion_tokens_details': {'accepted_prediction_tokens': 0, 'audio_tokens': 0, 'reasoning_tokens': 0, 'rejected_prediction_tokens': 0}, 'prompt_tokens_details': {'audio_tokens': 0, 'cached_tokens': 0}}, 'model_name': 'gpt-3.5-turbo-0125', 'system_fingerprint': None, 'id': 'chatcmpl-CGPp2gGbA4NPGRAHBnwgZIWqMka5I', 'service_tier': 'default', 'finish_reason': 'stop', 'logprobs': None}, id='run--138fe3f8-6781-46a0-b3db-aca029132b18-0', usage_metadata={'input_tokens': 1548, 'output_tokens': 99, 'total_tokens': 1647, 'input_token_details': {'audio': 0, 'cache_read': 0}, 'output_token_details': {'audio': 0, 'reasoning': 0}})]}"
      ]
     },
     "execution_count": 16,
     "metadata": {},
     "output_type": "execute_result"
    }
   ],
   "source": [
    "messages = [HumanMessage(content=\"stock price of apple\")]\n",
    "response = workflow.invoke({\"messages\": messages})\n",
    "response"
   ]
  },
  {
   "cell_type": "code",
   "execution_count": null,
   "id": "e135aa0d",
   "metadata": {},
   "outputs": [],
   "source": []
  },
  {
   "cell_type": "markdown",
   "id": "b731aa0d",
   "metadata": {},
   "source": [
    "### sending back Tool Message to get refined result show in output"
   ]
  },
  {
   "cell_type": "code",
   "execution_count": 18,
   "id": "1cb363e3",
   "metadata": {},
   "outputs": [
    {
     "name": "stdout",
     "output_type": "stream",
     "text": [
      "================================\u001b[1m Human Message \u001b[0m=================================\n",
      "\n",
      "if i buy  4 apple stocks how much it cost\n",
      "==================================\u001b[1m Ai Message \u001b[0m==================================\n",
      "Tool Calls:\n",
      "  StockPrice (call_dCyyaAECuMcXsRHHa9DVXASv)\n",
      " Call ID: call_dCyyaAECuMcXsRHHa9DVXASv\n",
      "  Args:\n",
      "    __arg1: AAPL\n",
      "=================================\u001b[1m Tool Message \u001b[0m=================================\n",
      "Name: StockPrice\n",
      "\n",
      "{\"Global Quote\": {\"01. symbol\": \"AAPL\", \"02. open\": \"237.0000\", \"03. high\": \"238.1900\", \"04. low\": \"235.0300\", \"05. price\": \"236.7000\", \"06. volume\": \"42699524\", \"07. latest trading day\": \"2025-09-15\", \"08. previous close\": \"234.0700\", \"09. change\": \"2.6300\", \"10. change percent\": \"1.1236%\"}}\n",
      "==================================\u001b[1m Ai Message \u001b[0m==================================\n",
      "\n",
      "The current price of one Apple (AAPL) stock is $236.70. \n",
      "\n",
      "If you buy 4 Apple stocks, the total cost would be $946.80 (4 stocks x $236.70).\n"
     ]
    }
   ],
   "source": [
    "messages = [HumanMessage(content=\"if i buy  4 apple stocks how much it cost\")]\n",
    "response = workflow.invoke({\"messages\": messages})\n",
    "\n",
    "for m in response['messages']:\n",
    "    m.pretty_print()"
   ]
  },
  {
   "cell_type": "code",
   "execution_count": null,
   "id": "dfc10813",
   "metadata": {},
   "outputs": [],
   "source": []
  }
 ],
 "metadata": {
  "kernelspec": {
   "display_name": "hf-gpu",
   "language": "python",
   "name": "python3"
  },
  "language_info": {
   "codemirror_mode": {
    "name": "ipython",
    "version": 3
   },
   "file_extension": ".py",
   "mimetype": "text/x-python",
   "name": "python",
   "nbconvert_exporter": "python",
   "pygments_lexer": "ipython3",
   "version": "3.10.18"
  }
 },
 "nbformat": 4,
 "nbformat_minor": 5
}
